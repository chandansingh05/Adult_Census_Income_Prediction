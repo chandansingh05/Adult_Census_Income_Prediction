{
 "cells": [
  {
   "cell_type": "code",
   "execution_count": 1,
   "id": "skilled-herald",
   "metadata": {},
   "outputs": [],
   "source": [
    "import pandas as pd\n",
    "import numpy as np\n",
    "\n",
    "import pickle"
   ]
  },
  {
   "cell_type": "code",
   "execution_count": 3,
   "id": "applicable-license",
   "metadata": {},
   "outputs": [],
   "source": [
    "dataset = pd.read_csv('adult.csv')\n",
    "\n",
    "from sklearn.preprocessing import LabelEncoder\n",
    "le = LabelEncoder()\n",
    "\n",
    "dataset['income'] = le.fit_transform(dataset['income'])\n",
    "\n",
    "dataset = dataset.replace('?', np.nan)\n",
    "\n",
    "columns_with_nan = ['workclass', 'occupation', 'native-country']\n",
    "\n",
    "for col in columns_with_nan:\n",
    "    dataset[col].fillna(dataset[col].mode()[0], inplace=True)\n",
    "\n",
    "dataset['marital-status'] = dataset['marital-status'].map(\n",
    "                            {'Married-civ-spouse' : 1,\n",
    "                             'Never-married' : 2,\n",
    "                             'Divorced' : 3,\n",
    "                             'Separated' : 4,\n",
    "                             'Widowed' : 5,\n",
    "                             'Married-spouse-absent' : 6,\n",
    "                             'Married-AF-spouse' : 7\n",
    "                             })\n",
    "\n",
    "for col in dataset.columns:\n",
    "    if dataset[col].dtypes == 'object':\n",
    "        encoder = LabelEncoder()\n",
    "        dataset[col] = encoder.fit_transform(dataset[col])\n",
    "\n",
    "X = dataset.drop('income', axis=1)\n",
    "Y = dataset['income']\n",
    "\n",
    "X = X.drop(['workclass', 'education', 'race', 'gender',\n",
    "            'capital-loss', 'native-country', 'fnlwgt', 'relationship',\n",
    "            'capital-gain'], axis=1)\n"
   ]
  },
  {
   "cell_type": "code",
   "execution_count": 4,
   "id": "curious-serbia",
   "metadata": {},
   "outputs": [],
   "source": [
    "from sklearn.preprocessing import StandardScaler\n",
    "scaler = StandardScaler()\n",
    "\n",
    "X = scaler.fit_transform(X) \n",
    "\n",
    "from imblearn.over_sampling import RandomOverSampler\n",
    "ros = RandomOverSampler(random_state=42)\n",
    "\n",
    "ros.fit(X, Y)\n",
    "\n",
    "X_resampled, Y_resampled = ros.fit_resample(X, Y)\n",
    "\n",
    "X = X_resampled\n",
    "Y = Y_resampled\n"
   ]
  },
  {
   "cell_type": "code",
   "execution_count": 5,
   "id": "distinguished-hypothetical",
   "metadata": {},
   "outputs": [],
   "source": [
    "from sklearn.ensemble import RandomForestClassifier\n",
    "ran_for = RandomForestClassifier(max_depth=102, n_estimators=40, random_state=42)\n",
    "\n",
    "ran_for.fit(X, Y)\n",
    "\n",
    "pickle.dump(ran_for, open('model.pkl','wb'))\n",
    "\n",
    "model = pickle.load(open('model.pkl','rb'))\n",
    "\n",
    "prediction = model.predict(scaler.transform(np.array([[20, 10, 3, 5, 40]])))"
   ]
  },
  {
   "cell_type": "code",
   "execution_count": null,
   "id": "female-occupation",
   "metadata": {},
   "outputs": [],
   "source": []
  }
 ],
 "metadata": {
  "kernelspec": {
   "display_name": "Python 3",
   "language": "python",
   "name": "python3"
  },
  "language_info": {
   "codemirror_mode": {
    "name": "ipython",
    "version": 3
   },
   "file_extension": ".py",
   "mimetype": "text/x-python",
   "name": "python",
   "nbconvert_exporter": "python",
   "pygments_lexer": "ipython3",
   "version": "3.8.8"
  }
 },
 "nbformat": 4,
 "nbformat_minor": 5
}
